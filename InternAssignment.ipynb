{
 "cells": [
  {
   "cell_type": "markdown",
   "metadata": {},
   "source": [
    "# Collaborative Filtering"
   ]
  },
  {
   "cell_type": "code",
   "execution_count": 348,
   "metadata": {
    "collapsed": false
   },
   "outputs": [],
   "source": [
    "from pyspark.sql import *\n",
    "from pyspark import SQLContext\n",
    "from pyspark.mllib.recommendation import ALS, MatrixFactorizationModel, Rating"
   ]
  },
  {
   "cell_type": "code",
   "execution_count": 349,
   "metadata": {
    "collapsed": false
   },
   "outputs": [],
   "source": [
    "sqlContext = SQLContext(sc)\n",
    "movies_rdd = sc.textFile(\"/home/sarthak/Jupyter/movies.csv\")"
   ]
  },
  {
   "cell_type": "code",
   "execution_count": 350,
   "metadata": {
    "collapsed": false
   },
   "outputs": [
    {
     "data": {
      "text/plain": [
       "['movieId,title,genres',\n",
       " '1,Toy Story (1995),Adventure|Animation|Children|Comedy|Fantasy',\n",
       " '2,Jumanji (1995),Adventure|Children|Fantasy',\n",
       " '3,Grumpier Old Men (1995),Comedy|Romance',\n",
       " '4,Waiting to Exhale (1995),Comedy|Drama|Romance',\n",
       " '5,Father of the Bride Part II (1995),Comedy',\n",
       " '6,Heat (1995),Action|Crime|Thriller',\n",
       " '7,Sabrina (1995),Comedy|Romance',\n",
       " '8,Tom and Huck (1995),Adventure|Children',\n",
       " '9,Sudden Death (1995),Action']"
      ]
     },
     "execution_count": 350,
     "metadata": {},
     "output_type": "execute_result"
    }
   ],
   "source": [
    "movies_rdd.take(10)"
   ]
  },
  {
   "cell_type": "code",
   "execution_count": 351,
   "metadata": {
    "collapsed": false
   },
   "outputs": [
    {
     "data": {
      "text/plain": [
       "['userId,movieId,rating,timestamp',\n",
       " '1,31,2.5,1260759144',\n",
       " '1,1029,3.0,1260759179',\n",
       " '1,1061,3.0,1260759182',\n",
       " '1,1129,2.0,1260759185',\n",
       " '1,1172,4.0,1260759205',\n",
       " '1,1263,2.0,1260759151',\n",
       " '1,1287,2.0,1260759187',\n",
       " '1,1293,2.0,1260759148',\n",
       " '1,1339,3.5,1260759125']"
      ]
     },
     "execution_count": 351,
     "metadata": {},
     "output_type": "execute_result"
    }
   ],
   "source": [
    "ratings_rdd = sc.textFile(\"/home/sarthak/Jupyter/ratings.csv\")\n",
    "ratings_rdd.take(10)"
   ]
  },
  {
   "cell_type": "code",
   "execution_count": 352,
   "metadata": {
    "collapsed": false
   },
   "outputs": [
    {
     "data": {
      "text/plain": [
       "'userId,movieId,rating,timestamp'"
      ]
     },
     "execution_count": 352,
     "metadata": {},
     "output_type": "execute_result"
    }
   ],
   "source": [
    "header_ratings = ratings_rdd.take(1)[0]\n",
    "ratings_rdd_withoutheader = ratings_rdd.filter(lambda line : line!=header_ratings)\n",
    "header_ratings"
   ]
  },
  {
   "cell_type": "code",
   "execution_count": 353,
   "metadata": {
    "collapsed": false
   },
   "outputs": [
    {
     "data": {
      "text/plain": [
       "['1,31,2.5,1260759144',\n",
       " '1,1029,3.0,1260759179',\n",
       " '1,1061,3.0,1260759182',\n",
       " '1,1129,2.0,1260759185',\n",
       " '1,1172,4.0,1260759205',\n",
       " '1,1263,2.0,1260759151',\n",
       " '1,1287,2.0,1260759187',\n",
       " '1,1293,2.0,1260759148',\n",
       " '1,1339,3.5,1260759125',\n",
       " '1,1343,2.0,1260759131']"
      ]
     },
     "execution_count": 353,
     "metadata": {},
     "output_type": "execute_result"
    }
   ],
   "source": [
    "ratings_rdd_withoutheader.take(10)"
   ]
  },
  {
   "cell_type": "code",
   "execution_count": 354,
   "metadata": {
    "collapsed": true
   },
   "outputs": [],
   "source": [
    "new_ratings_data = ratings_rdd_withoutheader.map(lambda line: line.split(\",\")).map(lambda r: (r[0],r[1],r[2]))"
   ]
  },
  {
   "cell_type": "code",
   "execution_count": 355,
   "metadata": {
    "collapsed": false
   },
   "outputs": [
    {
     "data": {
      "text/plain": [
       "[('1', '31', '2.5'), ('1', '1029', '3.0'), ('1', '1061', '3.0')]"
      ]
     },
     "execution_count": 355,
     "metadata": {},
     "output_type": "execute_result"
    }
   ],
   "source": [
    "new_ratings_data.take(3)"
   ]
  },
  {
   "cell_type": "code",
   "execution_count": 356,
   "metadata": {
    "collapsed": true
   },
   "outputs": [],
   "source": [
    "header_movies = movies_rdd.take(1)[0]\n",
    "movies_rdd_withoutheader = movies_rdd.filter(lambda line : line!=header_movies)"
   ]
  },
  {
   "cell_type": "code",
   "execution_count": 357,
   "metadata": {
    "collapsed": false
   },
   "outputs": [
    {
     "data": {
      "text/plain": [
       "[('1', 'Toy Story (1995)'),\n",
       " ('2', 'Jumanji (1995)'),\n",
       " ('3', 'Grumpier Old Men (1995)'),\n",
       " ('4', 'Waiting to Exhale (1995)'),\n",
       " ('5', 'Father of the Bride Part II (1995)'),\n",
       " ('6', 'Heat (1995)'),\n",
       " ('7', 'Sabrina (1995)'),\n",
       " ('8', 'Tom and Huck (1995)'),\n",
       " ('9', 'Sudden Death (1995)'),\n",
       " ('10', 'GoldenEye (1995)')]"
      ]
     },
     "execution_count": 357,
     "metadata": {},
     "output_type": "execute_result"
    }
   ],
   "source": [
    "new_movies_data = movies_rdd_withoutheader.map(lambda line: line.split(\",\")).map(lambda r: (r[0],r[1]))\n",
    "new_movies_data.take(10)"
   ]
  },
  {
   "cell_type": "code",
   "execution_count": 358,
   "metadata": {
    "collapsed": true
   },
   "outputs": [],
   "source": [
    "# Build the recommendation model using Alternating Least Squares\n",
    "rank = 10\n",
    "numIterations = 10"
   ]
  },
  {
   "cell_type": "markdown",
   "metadata": {},
   "source": [
    "# Model used for prediction"
   ]
  },
  {
   "cell_type": "code",
   "execution_count": 359,
   "metadata": {
    "collapsed": true
   },
   "outputs": [],
   "source": [
    "model = ALS.train(new_ratings_data,rank, numIterations)"
   ]
  },
  {
   "cell_type": "code",
   "execution_count": 360,
   "metadata": {
    "collapsed": true
   },
   "outputs": [],
   "source": [
    "test_data = new_ratings_data.map(lambda p: (p[0], p[1]))"
   ]
  },
  {
   "cell_type": "code",
   "execution_count": 361,
   "metadata": {
    "collapsed": false
   },
   "outputs": [],
   "source": [
    "predictions = model.predictAll(test_data).map(lambda r: ((r[0], r[1]), r[2]))"
   ]
  },
  {
   "cell_type": "code",
   "execution_count": 362,
   "metadata": {
    "collapsed": true
   },
   "outputs": [],
   "source": [
    "ratingNprediction = new_ratings_data.map(lambda r: ((int(r[0]), int(r[1])), float(r[2]))).join(predictions)"
   ]
  },
  {
   "cell_type": "markdown",
   "metadata": {},
   "source": [
    "# The user rating and the prediction"
   ]
  },
  {
   "cell_type": "code",
   "execution_count": 412,
   "metadata": {
    "collapsed": false
   },
   "outputs": [
    {
     "data": {
      "text/plain": [
       "[((1, 1029), (3.0, 3.0557497917770418)),\n",
       " ((1, 1061), (3.0, 2.823217917849904)),\n",
       " ((1, 1129), (2.0, 2.288753176305595)),\n",
       " ((1, 1293), (2.0, 1.9354866281027512)),\n",
       " ((1, 1405), (1.0, 0.9401619423416037)),\n",
       " ((1, 1953), (4.0, 3.831853348871155)),\n",
       " ((1, 2105), (4.0, 3.5630839376749526)),\n",
       " ((1, 2193), (2.0, 2.362233369790772)),\n",
       " ((2, 52), (3.0, 3.0278998146530105)),\n",
       " ((2, 144), (3.0, 2.967256783771995)),\n",
       " ((2, 168), (3.0, 2.6946708144642946)),\n",
       " ((2, 208), (3.0, 2.6097532874776546)),\n",
       " ((2, 248), (3.0, 2.831833964075469)),\n",
       " ((2, 272), (3.0, 3.21321483143364)),\n",
       " ((2, 292), (3.0, 2.761842954676365)),\n",
       " ((2, 296), (4.0, 4.27799145583791)),\n",
       " ((2, 300), (3.0, 3.2202414200148652)),\n",
       " ((2, 356), (3.0, 3.129291020223235)),\n",
       " ((2, 364), (3.0, 4.1045698782628)),\n",
       " ((2, 372), (3.0, 2.2916931715052504)),\n",
       " ((2, 468), (4.0, 3.9743703251135494)),\n",
       " ((2, 480), (4.0, 4.135193541903432)),\n",
       " ((2, 500), (4.0, 3.6509360191637206)),\n",
       " ((2, 508), (4.0, 3.3441404820760896)),\n",
       " ((2, 552), (3.0, 2.999221047500358)),\n",
       " ((2, 588), (3.0, 3.449370639680947)),\n",
       " ((2, 592), (5.0, 3.954638075878001)),\n",
       " ((2, 616), (3.0, 3.4611315671734166)),\n",
       " ((2, 720), (4.0, 3.5613243178812968)),\n",
       " ((3, 247), (3.5, 3.543207698051329)),\n",
       " ((3, 267), (3.0, 3.1131622182738123)),\n",
       " ((3, 355), (2.5, 1.770403284257484)),\n",
       " ((3, 527), (3.0, 3.9156715013522403)),\n",
       " ((3, 595), (2.0, 3.3669089396457563)),\n",
       " ((3, 1235), (4.0, 3.468235912695003)),\n",
       " ((3, 1271), (3.0, 3.655080437698863)),\n",
       " ((3, 2959), (5.0, 3.70407424486852)),\n",
       " ((3, 3243), (3.0, 2.93926386695302)),\n",
       " ((3, 44191), (3.5, 4.1736522264837)),\n",
       " ((3, 48783), (4.5, 4.459639026694115)),\n",
       " ((3, 58559), (3.0, 3.447336331077583)),\n",
       " ((4, 10), (4.0, 3.941759224897919)),\n",
       " ((4, 34), (5.0, 5.183149039390216)),\n",
       " ((4, 410), (3.0, 3.512458723243839)),\n",
       " ((4, 434), (4.0, 3.4065940087529154)),\n",
       " ((4, 442), (4.0, 3.5181709762527706)),\n",
       " ((4, 590), (3.0, 4.621317033797148)),\n",
       " ((4, 594), (5.0, 5.0128037331542)),\n",
       " ((4, 610), (4.0, 3.718409813518993)),\n",
       " ((4, 858), (5.0, 5.5559629141701805))]"
      ]
     },
     "execution_count": 412,
     "metadata": {},
     "output_type": "execute_result"
    }
   ],
   "source": [
    "ratingNprediction.take(50)"
   ]
  }
 ],
 "metadata": {
  "kernelspec": {
   "display_name": "Python 3",
   "language": "python",
   "name": "python3"
  },
  "language_info": {
   "codemirror_mode": {
    "name": "ipython",
    "version": 3
   },
   "file_extension": ".py",
   "mimetype": "text/x-python",
   "name": "python",
   "nbconvert_exporter": "python",
   "pygments_lexer": "ipython3",
   "version": "3.6.0"
  }
 },
 "nbformat": 4,
 "nbformat_minor": 2
}
